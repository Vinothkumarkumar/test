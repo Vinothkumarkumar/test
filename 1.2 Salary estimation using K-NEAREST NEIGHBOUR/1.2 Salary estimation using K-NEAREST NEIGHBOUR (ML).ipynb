{
 "cells": [
  {
   "cell_type": "code",
   "execution_count": 1,
   "id": "0a58cfaf",
   "metadata": {},
   "outputs": [],
   "source": [
    "# Salary estimation using K-NEAREST NEIGHBOUR (ML)"
   ]
  },
  {
   "cell_type": "code",
   "execution_count": 2,
   "id": "d15f2e2f",
   "metadata": {},
   "outputs": [],
   "source": [
    "# Importing libraries\n",
    "import pandas as pd \n",
    "import numpy as np"
   ]
  },
  {
   "cell_type": "code",
   "execution_count": 3,
   "id": "d1bc392c",
   "metadata": {},
   "outputs": [],
   "source": [
    "# Choose dataset from github\n",
    "dataset = pd.read_csv(\"https://raw.githubusercontent.com/Vinothkumarkumar/Projects/main/1.%20Machine%20Learning/1.2%20Salary%20estimation%20using%20K-NEAREST%20NEIGHBOUR/salary.csv\")"
   ]
  },
  {
   "cell_type": "code",
   "execution_count": 4,
   "id": "661fe6bf",
   "metadata": {},
   "outputs": [
    {
     "name": "stdout",
     "output_type": "stream",
     "text": [
      "(32561, 5)\n",
      "   age  education.num  capital.gain  hours.per.week income\n",
      "0   90              9             0              40  <=50K\n",
      "1   82              9             0              18  <=50K\n",
      "2   66             10             0              40  <=50K\n",
      "3   54              4             0              40  <=50K\n",
      "4   41             10             0              40  <=50K\n"
     ]
    }
   ],
   "source": [
    "# Summarize the dataset\n",
    "print(dataset.shape)\n",
    "print(dataset.head(5))"
   ]
  },
  {
   "cell_type": "code",
   "execution_count": 5,
   "id": "e65f1049",
   "metadata": {},
   "outputs": [
    {
     "name": "stdout",
     "output_type": "stream",
     "text": [
      "   age  education.num  capital.gain  hours.per.week  income\n",
      "0   90              9             0              40       0\n",
      "1   82              9             0              18       0\n",
      "2   66             10             0              40       0\n",
      "3   54              4             0              40       0\n",
      "4   41             10             0              40       0\n"
     ]
    }
   ],
   "source": [
    "# Mapping income value into binary value\n",
    "income_set = set(dataset[\"income\"])\n",
    "dataset['income'] = dataset['income'].map({'<=50K' : 0, '>50K' : 1}).astype(int)\n",
    "print(dataset.head(5))"
   ]
  },
  {
   "cell_type": "code",
   "execution_count": 6,
   "id": "cb7966ce",
   "metadata": {},
   "outputs": [
    {
     "data": {
      "text/plain": [
       "array([[90,  9,  0, 40],\n",
       "       [82,  9,  0, 18],\n",
       "       [66, 10,  0, 40],\n",
       "       ...,\n",
       "       [40,  9,  0, 40],\n",
       "       [58,  9,  0, 40],\n",
       "       [22,  9,  0, 20]], dtype=int64)"
      ]
     },
     "execution_count": 6,
     "metadata": {},
     "output_type": "execute_result"
    }
   ],
   "source": [
    "# Segregate Dataset in to X, Y\n",
    "X = dataset.iloc[:, :-1].values\n",
    "X"
   ]
  },
  {
   "cell_type": "code",
   "execution_count": 7,
   "id": "a3fc0d6d",
   "metadata": {},
   "outputs": [
    {
     "data": {
      "text/plain": [
       "array([0, 0, 0, ..., 1, 0, 0])"
      ]
     },
     "execution_count": 7,
     "metadata": {},
     "output_type": "execute_result"
    }
   ],
   "source": [
    "Y = dataset.iloc[:,-1].values\n",
    "Y"
   ]
  },
  {
   "cell_type": "code",
   "execution_count": 8,
   "id": "326c94f5",
   "metadata": {},
   "outputs": [],
   "source": [
    "# Split dataset into train and test\n",
    "from sklearn.model_selection import train_test_split\n",
    "X_train, X_test, Y_train, Y_test = train_test_split(X, Y, test_size=0.25, random_state=0)"
   ]
  },
  {
   "cell_type": "code",
   "execution_count": 9,
   "id": "c48c8847",
   "metadata": {},
   "outputs": [],
   "source": [
    "# Feature scaling\n",
    "from sklearn.preprocessing import StandardScaler\n",
    "sc = StandardScaler()\n",
    "X_train = sc.fit_transform(X_train)\n",
    "X_test = sc.transform(X_test)"
   ]
  },
  {
   "cell_type": "code",
   "execution_count": 13,
   "id": "a581f0a6",
   "metadata": {},
   "outputs": [
    {
     "data": {
      "text/plain": [
       "Text(0, 0.5, 'Mean Error')"
      ]
     },
     "execution_count": 13,
     "metadata": {},
     "output_type": "execute_result"
    },
    {
     "data": {
      "image/png": "[encoded data removed]",
      "text/plain": [
       "<Figure size 864x432 with 1 Axes>"
      ]
     },
     "metadata": {
      "needs_background": "light"
     },
     "output_type": "display_data"
    }
   ],
   "source": [
    "# Finding the best K-Value\n",
    "\n",
    "error =[]\n",
    "from sklearn.neighbors import KNeighborsClassifier\n",
    "import matplotlib.pyplot as plt\n",
    "\n",
    "# Calculating error for K\n",
    "for i in range(1, 40):\n",
    "    model = KNeighborsClassifier(n_neighbors=i)\n",
    "    model.fit(X_train, Y_train)\n",
    "    pred_i= model.predict(X_test)\n",
    "    error.append(np.mean(pred_i != Y_test))\n",
    "plt.figure(figsize = (12, 6))\n",
    "plt.plot(range(1, 40), error, color ='red', linestyle = 'dashed', marker = 'o', markerfacecolor='blue', markersize=10)\n",
    "plt.title('Error rate K Value')\n",
    "plt.xlabel('K Value')\n",
    "plt.ylabel('Mean Error')"
   ]
  },
  {
   "cell_type": "code",
   "execution_count": 14,
   "id": "d6824ad7",
   "metadata": {},
   "outputs": [
    {
     "data": {
      "text/plain": [
       "KNeighborsClassifier(n_neighbors=16)"
      ]
     },
     "execution_count": 14,
     "metadata": {},
     "output_type": "execute_result"
    }
   ],
   "source": [
    "# Traning the model\n",
    "from sklearn.neighbors import KNeighborsClassifier\n",
    "model = KNeighborsClassifier(n_neighbors = 16, metric = 'minkowski', p= 2)\n",
    "model.fit(X_train,Y_train)"
   ]
  },
  {
   "cell_type": "code",
   "execution_count": 17,
   "id": "0971e0b0",
   "metadata": {},
   "outputs": [
    {
     "name": "stdout",
     "output_type": "stream",
     "text": [
      "Enter New Employee's Age: 68\n",
      "Enter New Employee's Education: 9\n",
      "Enter New Employee's Capital Gain: 0\n",
      "Enter New Employee's Hours per Week: 40\n",
      "[0]\n",
      "Employees might not got salary above 50K\n"
     ]
    }
   ],
   "source": [
    "# Predicting, Wheather new Employee will get or not\n",
    "age = int(input(\"Enter New Employee's Age: \"))\n",
    "edu = int(input(\"Enter New Employee's Education: \"))\n",
    "cg = int(input(\"Enter New Employee's Capital Gain: \"))\n",
    "wh = int(input(\"Enter New Employee's Hours per Week: \"))\n",
    "\n",
    "newEmp = [[age,edu,cg,wh]]\n",
    "result = model.predict(sc.transform(newEmp))\n",
    "print(result)\n",
    "\n",
    "if result == 1:\n",
    "    print('Employees might got salary above 50K')\n",
    "else:\n",
    "    print('Employees might not got salary above 50K')"
   ]
  },
  {
   "cell_type": "code",
   "execution_count": 18,
   "id": "7a6d2957",
   "metadata": {},
   "outputs": [
    {
     "name": "stdout",
     "output_type": "stream",
     "text": [
      "[[0 0]\n",
      " [0 0]\n",
      " [0 0]\n",
      " ...\n",
      " [0 0]\n",
      " [0 0]\n",
      " [0 0]]\n"
     ]
    }
   ],
   "source": [
    "# Prediction for all data\n",
    "Y_pred = model.predict(X_test)\n",
    "print(np.concatenate((Y_pred.reshape(len(Y_pred),1), Y_test.reshape(len(Y_test),1)),1))"
   ]
  },
  {
   "cell_type": "code",
   "execution_count": 19,
   "id": "70bd0175",
   "metadata": {},
   "outputs": [
    {
     "name": "stdout",
     "output_type": "stream",
     "text": [
      "confusion_matrix: \n",
      "[[5882  311]\n",
      " [1185  763]]\n",
      "Accuracy of the model :81.62387913032796%\n"
     ]
    }
   ],
   "source": [
    "# Evaluating Model\n",
    "from sklearn.metrics import confusion_matrix, accuracy_score\n",
    "cm = confusion_matrix(Y_test, Y_pred)\n",
    "\n",
    "print(\"confusion_matrix: \")\n",
    "print(cm)\n",
    "\n",
    "print(\"Accuracy of the model :{0}%\".format(accuracy_score(Y_test,Y_pred)*100))"
   ]
  }
 ],
 "metadata": {
  "kernelspec": {
   "display_name": "Python 3 (ipykernel)",
   "language": "python",
   "name": "python3"
  },
  "language_info": {
   "codemirror_mode": {
    "name": "ipython",
    "version": 3
   },
   "file_extension": ".py",
   "mimetype": "text/x-python",
   "name": "python",
   "nbconvert_exporter": "python",
   "pygments_lexer": "ipython3",
   "version": "3.9.7"
  }
 },
 "nbformat": 4,
 "nbformat_minor": 5
}
